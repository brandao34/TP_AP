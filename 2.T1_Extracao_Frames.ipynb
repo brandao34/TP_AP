{
 "cells": [
  {
   "cell_type": "markdown",
   "id": "fb1c5162",
   "metadata": {},
   "source": [
    "# Extração de Frames\n",
    "Este notebook realiza a extração de frames dos vídeos e os salva em diretórios específicos."
   ]
  },
  {
   "cell_type": "code",
   "execution_count": 1,
   "id": "d7ed96d0",
   "metadata": {},
   "outputs": [],
   "source": [
    "import os\n",
    "import cv2\n",
    "\n",
    "def extrair_frames(video_path, output_dir, frame_rate=10, frame_size=(224, 224)):\n",
    "    \"\"\"\n",
    "    Extrai frames de um vídeo, redimensiona e os salva em uma pasta.\n",
    "\n",
    "    Args:\n",
    "        video_path (str): Caminho para o arquivo de vídeo.\n",
    "        output_dir (str): Diretório onde os frames serão salvos.\n",
    "        frame_rate (int): Taxa de quadros (frames) a serem extraídos por segundo.\n",
    "        frame_size (tuple): Resolução desejada dos frames (largura, altura).\n",
    "    \"\"\"\n",
    "    if os.path.exists(output_dir):\n",
    "        print(f\"Pasta '{output_dir}' já existe. Saltando este vídeo.\")\n",
    "        return\n",
    "\n",
    "    os.makedirs(output_dir, exist_ok=True)\n",
    "    cap = cv2.VideoCapture(video_path)\n",
    "    count = 0\n",
    "    frame_count = 0\n",
    "\n",
    "    while cap.isOpened():\n",
    "        ret, frame = cap.read()\n",
    "        if not ret:\n",
    "            break\n",
    "        if count % frame_rate == 0:\n",
    "            resized_frame = cv2.resize(frame, frame_size)\n",
    "            frame_path = os.path.join(output_dir, f\"frame_{frame_count:04d}.jpg\")\n",
    "            cv2.imwrite(frame_path, resized_frame)\n",
    "            frame_count += 1\n",
    "        count += 1\n",
    "\n",
    "    cap.release()\n",
    "    print(f\"Frames extraídos de {video_path} e salvos em {output_dir}\")"
   ]
  },
  {
   "cell_type": "code",
   "execution_count": 2,
   "id": "54e39f57",
   "metadata": {},
   "outputs": [
    {
     "name": "stdout",
     "output_type": "stream",
     "text": [
      "Frames extraídos de data/Package/D44W.mp4 e salvos em frames/D44W\n",
      "Frames extraídos de data/Package/D12Y.mp4 e salvos em frames/D12Y\n",
      "Frames extraídos de data/Package/F32Q.mp4 e salvos em frames/F32Q\n",
      "Frames extraídos de data/Package/E04A.mp4 e salvos em frames/E04A\n",
      "Frames extraídos de data/Package/D35B.mp4 e salvos em frames/D35B\n",
      "Frames extraídos de data/Package/D51V.mp4 e salvos em frames/D51V\n",
      "Frames extraídos de data/Package/D59F.mp4 e salvos em frames/D59F\n",
      "Frames extraídos de data/Package/D04V.mp4 e salvos em frames/D04V\n",
      "Frames extraídos de data/Package/C85Q.mp4 e salvos em frames/C85Q\n",
      "Frames extraídos de data/Package/E01L.mp4 e salvos em frames/E01L\n",
      "Frames extraídos de data/Package/E23G.mp4 e salvos em frames/E23G\n",
      "Frames extraídos de data/Package/F03Z.mp4 e salvos em frames/F03Z\n",
      "Frames extraídos de data/Package/E86N.mp4 e salvos em frames/E86N\n",
      "Frames extraídos de data/Package/D39G.mp4 e salvos em frames/D39G\n",
      "Frames extraídos de data/Package/E82Z.mp4 e salvos em frames/E82Z\n",
      "Frames extraídos de data/Package/D82C.mp4 e salvos em frames/D82C\n",
      "Frames extraídos de data/Package/E39Z.mp4 e salvos em frames/E39Z\n",
      "Frames extraídos de data/Package/D94Z.mp4 e salvos em frames/D94Z\n",
      "Frames extraídos de data/Package/C85C.mp4 e salvos em frames/C85C\n",
      "Frames extraídos de data/Package/D17H.mp4 e salvos em frames/D17H\n",
      "Frames extraídos de data/Package/D65L.mp4 e salvos em frames/D65L\n",
      "Frames extraídos de data/Package/F36V.mp4 e salvos em frames/F36V\n",
      "Frames extraídos de data/Package/E63M.mp4 e salvos em frames/E63M\n",
      "Frames extraídos de data/Package/E66F.mp4 e salvos em frames/E66F\n",
      "Frames extraídos de data/Package/F10I.mp4 e salvos em frames/F10I\n",
      "Frames extraídos de data/Package/D16B.mp4 e salvos em frames/D16B\n",
      "Frames extraídos de data/Package/C65K.mp4 e salvos em frames/C65K\n",
      "Frames extraídos de data/Package/E45Q.mp4 e salvos em frames/E45Q\n",
      "Frames extraídos de data/Package/E47O.mp4 e salvos em frames/E47O\n"
     ]
    }
   ],
   "source": [
    "# Exemplo de uso\n",
    "VIDEO_PATH = \"data/Package\"\n",
    "output_base_dir = \"frames\"\n",
    "\n",
    "for video_file in os.listdir(VIDEO_PATH):\n",
    "    if video_file.endswith(('.mp4')):\n",
    "        video_path = os.path.join(VIDEO_PATH, video_file)\n",
    "        output_dir = os.path.join(output_base_dir, os.path.splitext(video_file)[0])\n",
    "        extrair_frames(video_path, output_dir, frame_rate=10, frame_size=(224, 224))"
   ]
  },
  {
   "cell_type": "code",
   "execution_count": null,
   "id": "f708723b",
   "metadata": {},
   "outputs": [],
   "source": []
  }
 ],
 "metadata": {
  "kernelspec": {
   "display_name": "deepL2",
   "language": "python",
   "name": "python3"
  },
  "language_info": {
   "codemirror_mode": {
    "name": "ipython",
    "version": 3
   },
   "file_extension": ".py",
   "mimetype": "text/x-python",
   "name": "python",
   "nbconvert_exporter": "python",
   "pygments_lexer": "ipython3",
   "version": "3.11.11"
  }
 },
 "nbformat": 4,
 "nbformat_minor": 5
}

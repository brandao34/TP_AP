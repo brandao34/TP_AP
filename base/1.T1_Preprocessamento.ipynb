{
 "cells": [
  {
   "cell_type": "markdown",
   "id": "cba8186c",
   "metadata": {},
   "source": [
    "# Pré-processamento de Dados\n",
    "Este notebook realiza o pré-processamento dos dados, incluindo a leitura do arquivo Excel e a criação de um dicionário de classes."
   ]
  },
  {
   "cell_type": "code",
   "execution_count": 9,
   "id": "31e8da43",
   "metadata": {},
   "outputs": [],
   "source": [
    "import os\n",
    "import pandas as pd\n",
    "\n",
    "def class_grs(grs):\n",
    "    if 8 <= grs <= 15:\n",
    "        return 0  # novice\n",
    "    elif 16 <= grs <= 23:\n",
    "        return 1  # intermediate\n",
    "    elif 24 <= grs <= 31:\n",
    "        return 2  # proeficient\n",
    "    elif 32 <= grs <= 40:\n",
    "        return 3  # specialist\n",
    "    else:\n",
    "        return -1  # GRS not in range\n",
    "\n",
    "def get_classes():\n",
    "    with open(\"data/classes.txt\") as fich_labels:\n",
    "        labels = fich_labels.read().split()\n",
    "        classes = dict(zip(labels, list(range(len(labels)))))\n",
    "    return classes\n",
    "\n",
    "def criar_excel_limpo(videos_path, excel_path, output_excel=\"OSATS_clean.xlsx\"):\n",
    "    \"\"\"\n",
    "    Adiciona novos dados ao arquivo Excel 'OSATS_clean.xlsx' sem sobrescrever o conteúdo existente.\n",
    "    Cada vídeo aparece apenas uma vez, com a média das classificações calculada e a classe correspondente gerada.\n",
    "    \n",
    "    Args:\n",
    "        videos_path (str): Caminho para a pasta contendo os vídeos.\n",
    "        excel_path (str): Caminho para o arquivo OSATS.xlsx.\n",
    "        output_excel (str): Nome do arquivo Excel de saída.\n",
    "    \"\"\"\n",
    "    # Verificar se os caminhos existem\n",
    "    if not os.path.exists(videos_path):\n",
    "        raise FileNotFoundError(f\"Pasta de vídeos não encontrada: {videos_path}\")\n",
    "    if not os.path.exists(excel_path):\n",
    "        raise FileNotFoundError(f\"Arquivo Excel não encontrado: {excel_path}\")\n",
    "    \n",
    "    # Carregar o arquivo Excel original\n",
    "    df = pd.read_excel(excel_path)\n",
    "    \n",
    "    # Listar todos os arquivos de vídeo na pasta\n",
    "    video_extensions = ('.mp4',)\n",
    "    videos = [os.path.splitext(f)[0] for f in os.listdir(videos_path) if f.lower().endswith(video_extensions)]\n",
    "    \n",
    "    # Filtrar o DataFrame para conter apenas os vídeos presentes na pasta\n",
    "    df_filtered = df[df['VIDEO'].isin(videos)]\n",
    "    \n",
    "    # Calcular a média do GLOBA_RATING_SCORE para cada vídeo\n",
    "    df_mean = df_filtered.groupby('VIDEO')['GLOBA_RATING_SCORE'].mean().reset_index()\n",
    "    \n",
    "    # Adicionar a coluna 'GRS' com a classificação baseada na média\n",
    "    df_mean['GRS'] = df_mean['GLOBA_RATING_SCORE'].apply(class_grs)\n",
    "    \n",
    "    # Selecionar apenas as colunas 'VIDEO' e 'GRS'\n",
    "    df_clean = df_mean[['VIDEO', 'GRS']]\n",
    "    \n",
    "    # Verificar se o arquivo de saída já existe\n",
    "    if os.path.exists(output_excel):\n",
    "        # Carregar o conteúdo existente\n",
    "        existing_df = pd.read_excel(output_excel)\n",
    "        \n",
    "        # Concatenar os novos dados com os existentes, evitando duplicatas\n",
    "        combined_df = pd.concat([existing_df, df_clean]).drop_duplicates(subset=['VIDEO']).reset_index(drop=True)\n",
    "    else:\n",
    "        # Caso o arquivo não exista, usar apenas os novos dados\n",
    "        combined_df = df_clean\n",
    "    \n",
    "    # Salvar o arquivo atualizado\n",
    "    combined_df.to_excel(output_excel, index=False)\n",
    "    print(f\"Arquivo '{output_excel}' atualizado com sucesso!\")"
   ]
  },
  {
   "cell_type": "code",
   "execution_count": 12,
   "id": "ad989dd7",
   "metadata": {},
   "outputs": [
    {
     "name": "stdout",
     "output_type": "stream",
     "text": [
      "Arquivo 'OSATS_clean.xlsx' atualizado com sucesso!\n"
     ]
    },
    {
     "data": {
      "application/vnd.microsoft.datawrangler.viewer.v0+json": {
       "columns": [
        {
         "name": "index",
         "rawType": "int64",
         "type": "integer"
        },
        {
         "name": "VIDEO",
         "rawType": "object",
         "type": "string"
        },
        {
         "name": "GRS",
         "rawType": "int64",
         "type": "integer"
        }
       ],
       "ref": "dd7a1a64-4b41-49c7-a912-d6cf6ee3af8d",
       "rows": [
        [
         "0",
         "A31H",
         "0"
        ],
        [
         "1",
         "A40E",
         "1"
        ],
        [
         "2",
         "A41X",
         "3"
        ],
        [
         "3",
         "A61V",
         "2"
        ],
        [
         "4",
         "A80U",
         "0"
        ],
        [
         "5",
         "A83X",
         "2"
        ],
        [
         "6",
         "A92O",
         "1"
        ],
        [
         "7",
         "B12G",
         "0"
        ],
        [
         "8",
         "B61D",
         "0"
        ],
        [
         "9",
         "C16G",
         "1"
        ],
        [
         "10",
         "C28D",
         "0"
        ],
        [
         "11",
         "C42I",
         "0"
        ],
        [
         "12",
         "C43T",
         "0"
        ],
        [
         "13",
         "C56Y",
         "2"
        ],
        [
         "14",
         "C58C",
         "2"
        ],
        [
         "15",
         "C65K",
         "1"
        ],
        [
         "16",
         "C85C",
         "1"
        ],
        [
         "17",
         "C85Q",
         "2"
        ],
        [
         "18",
         "D04V",
         "2"
        ],
        [
         "19",
         "D12Y",
         "1"
        ],
        [
         "20",
         "D16B",
         "2"
        ],
        [
         "21",
         "D17H",
         "0"
        ],
        [
         "22",
         "D35B",
         "1"
        ],
        [
         "23",
         "D39G",
         "0"
        ],
        [
         "24",
         "D44W",
         "0"
        ],
        [
         "25",
         "D51V",
         "1"
        ],
        [
         "26",
         "D59F",
         "2"
        ],
        [
         "27",
         "D65L",
         "2"
        ],
        [
         "28",
         "D82C",
         "2"
        ],
        [
         "29",
         "D94Z",
         "0"
        ],
        [
         "30",
         "E01L",
         "2"
        ],
        [
         "31",
         "E04A",
         "3"
        ],
        [
         "32",
         "E23G",
         "2"
        ],
        [
         "33",
         "E39Z",
         "2"
        ],
        [
         "34",
         "E45Q",
         "1"
        ],
        [
         "35",
         "E47O",
         "0"
        ],
        [
         "36",
         "E63M",
         "0"
        ],
        [
         "37",
         "E66F",
         "2"
        ],
        [
         "38",
         "E82Z",
         "0"
        ],
        [
         "39",
         "E86N",
         "1"
        ],
        [
         "40",
         "F03Z",
         "2"
        ],
        [
         "41",
         "F10I",
         "0"
        ],
        [
         "42",
         "F32Q",
         "0"
        ],
        [
         "43",
         "F36V",
         "2"
        ]
       ],
       "shape": {
        "columns": 2,
        "rows": 44
       }
      },
      "text/html": [
       "<div>\n",
       "<style scoped>\n",
       "    .dataframe tbody tr th:only-of-type {\n",
       "        vertical-align: middle;\n",
       "    }\n",
       "\n",
       "    .dataframe tbody tr th {\n",
       "        vertical-align: top;\n",
       "    }\n",
       "\n",
       "    .dataframe thead th {\n",
       "        text-align: right;\n",
       "    }\n",
       "</style>\n",
       "<table border=\"1\" class=\"dataframe\">\n",
       "  <thead>\n",
       "    <tr style=\"text-align: right;\">\n",
       "      <th></th>\n",
       "      <th>VIDEO</th>\n",
       "      <th>GRS</th>\n",
       "    </tr>\n",
       "  </thead>\n",
       "  <tbody>\n",
       "    <tr>\n",
       "      <th>0</th>\n",
       "      <td>A31H</td>\n",
       "      <td>0</td>\n",
       "    </tr>\n",
       "    <tr>\n",
       "      <th>1</th>\n",
       "      <td>A40E</td>\n",
       "      <td>1</td>\n",
       "    </tr>\n",
       "    <tr>\n",
       "      <th>2</th>\n",
       "      <td>A41X</td>\n",
       "      <td>3</td>\n",
       "    </tr>\n",
       "    <tr>\n",
       "      <th>3</th>\n",
       "      <td>A61V</td>\n",
       "      <td>2</td>\n",
       "    </tr>\n",
       "    <tr>\n",
       "      <th>4</th>\n",
       "      <td>A80U</td>\n",
       "      <td>0</td>\n",
       "    </tr>\n",
       "    <tr>\n",
       "      <th>5</th>\n",
       "      <td>A83X</td>\n",
       "      <td>2</td>\n",
       "    </tr>\n",
       "    <tr>\n",
       "      <th>6</th>\n",
       "      <td>A92O</td>\n",
       "      <td>1</td>\n",
       "    </tr>\n",
       "    <tr>\n",
       "      <th>7</th>\n",
       "      <td>B12G</td>\n",
       "      <td>0</td>\n",
       "    </tr>\n",
       "    <tr>\n",
       "      <th>8</th>\n",
       "      <td>B61D</td>\n",
       "      <td>0</td>\n",
       "    </tr>\n",
       "    <tr>\n",
       "      <th>9</th>\n",
       "      <td>C16G</td>\n",
       "      <td>1</td>\n",
       "    </tr>\n",
       "    <tr>\n",
       "      <th>10</th>\n",
       "      <td>C28D</td>\n",
       "      <td>0</td>\n",
       "    </tr>\n",
       "    <tr>\n",
       "      <th>11</th>\n",
       "      <td>C42I</td>\n",
       "      <td>0</td>\n",
       "    </tr>\n",
       "    <tr>\n",
       "      <th>12</th>\n",
       "      <td>C43T</td>\n",
       "      <td>0</td>\n",
       "    </tr>\n",
       "    <tr>\n",
       "      <th>13</th>\n",
       "      <td>C56Y</td>\n",
       "      <td>2</td>\n",
       "    </tr>\n",
       "    <tr>\n",
       "      <th>14</th>\n",
       "      <td>C58C</td>\n",
       "      <td>2</td>\n",
       "    </tr>\n",
       "    <tr>\n",
       "      <th>15</th>\n",
       "      <td>C65K</td>\n",
       "      <td>1</td>\n",
       "    </tr>\n",
       "    <tr>\n",
       "      <th>16</th>\n",
       "      <td>C85C</td>\n",
       "      <td>1</td>\n",
       "    </tr>\n",
       "    <tr>\n",
       "      <th>17</th>\n",
       "      <td>C85Q</td>\n",
       "      <td>2</td>\n",
       "    </tr>\n",
       "    <tr>\n",
       "      <th>18</th>\n",
       "      <td>D04V</td>\n",
       "      <td>2</td>\n",
       "    </tr>\n",
       "    <tr>\n",
       "      <th>19</th>\n",
       "      <td>D12Y</td>\n",
       "      <td>1</td>\n",
       "    </tr>\n",
       "    <tr>\n",
       "      <th>20</th>\n",
       "      <td>D16B</td>\n",
       "      <td>2</td>\n",
       "    </tr>\n",
       "    <tr>\n",
       "      <th>21</th>\n",
       "      <td>D17H</td>\n",
       "      <td>0</td>\n",
       "    </tr>\n",
       "    <tr>\n",
       "      <th>22</th>\n",
       "      <td>D35B</td>\n",
       "      <td>1</td>\n",
       "    </tr>\n",
       "    <tr>\n",
       "      <th>23</th>\n",
       "      <td>D39G</td>\n",
       "      <td>0</td>\n",
       "    </tr>\n",
       "    <tr>\n",
       "      <th>24</th>\n",
       "      <td>D44W</td>\n",
       "      <td>0</td>\n",
       "    </tr>\n",
       "    <tr>\n",
       "      <th>25</th>\n",
       "      <td>D51V</td>\n",
       "      <td>1</td>\n",
       "    </tr>\n",
       "    <tr>\n",
       "      <th>26</th>\n",
       "      <td>D59F</td>\n",
       "      <td>2</td>\n",
       "    </tr>\n",
       "    <tr>\n",
       "      <th>27</th>\n",
       "      <td>D65L</td>\n",
       "      <td>2</td>\n",
       "    </tr>\n",
       "    <tr>\n",
       "      <th>28</th>\n",
       "      <td>D82C</td>\n",
       "      <td>2</td>\n",
       "    </tr>\n",
       "    <tr>\n",
       "      <th>29</th>\n",
       "      <td>D94Z</td>\n",
       "      <td>0</td>\n",
       "    </tr>\n",
       "    <tr>\n",
       "      <th>30</th>\n",
       "      <td>E01L</td>\n",
       "      <td>2</td>\n",
       "    </tr>\n",
       "    <tr>\n",
       "      <th>31</th>\n",
       "      <td>E04A</td>\n",
       "      <td>3</td>\n",
       "    </tr>\n",
       "    <tr>\n",
       "      <th>32</th>\n",
       "      <td>E23G</td>\n",
       "      <td>2</td>\n",
       "    </tr>\n",
       "    <tr>\n",
       "      <th>33</th>\n",
       "      <td>E39Z</td>\n",
       "      <td>2</td>\n",
       "    </tr>\n",
       "    <tr>\n",
       "      <th>34</th>\n",
       "      <td>E45Q</td>\n",
       "      <td>1</td>\n",
       "    </tr>\n",
       "    <tr>\n",
       "      <th>35</th>\n",
       "      <td>E47O</td>\n",
       "      <td>0</td>\n",
       "    </tr>\n",
       "    <tr>\n",
       "      <th>36</th>\n",
       "      <td>E63M</td>\n",
       "      <td>0</td>\n",
       "    </tr>\n",
       "    <tr>\n",
       "      <th>37</th>\n",
       "      <td>E66F</td>\n",
       "      <td>2</td>\n",
       "    </tr>\n",
       "    <tr>\n",
       "      <th>38</th>\n",
       "      <td>E82Z</td>\n",
       "      <td>0</td>\n",
       "    </tr>\n",
       "    <tr>\n",
       "      <th>39</th>\n",
       "      <td>E86N</td>\n",
       "      <td>1</td>\n",
       "    </tr>\n",
       "    <tr>\n",
       "      <th>40</th>\n",
       "      <td>F03Z</td>\n",
       "      <td>2</td>\n",
       "    </tr>\n",
       "    <tr>\n",
       "      <th>41</th>\n",
       "      <td>F10I</td>\n",
       "      <td>0</td>\n",
       "    </tr>\n",
       "    <tr>\n",
       "      <th>42</th>\n",
       "      <td>F32Q</td>\n",
       "      <td>0</td>\n",
       "    </tr>\n",
       "    <tr>\n",
       "      <th>43</th>\n",
       "      <td>F36V</td>\n",
       "      <td>2</td>\n",
       "    </tr>\n",
       "  </tbody>\n",
       "</table>\n",
       "</div>"
      ],
      "text/plain": [
       "   VIDEO  GRS\n",
       "0   A31H    0\n",
       "1   A40E    1\n",
       "2   A41X    3\n",
       "3   A61V    2\n",
       "4   A80U    0\n",
       "5   A83X    2\n",
       "6   A92O    1\n",
       "7   B12G    0\n",
       "8   B61D    0\n",
       "9   C16G    1\n",
       "10  C28D    0\n",
       "11  C42I    0\n",
       "12  C43T    0\n",
       "13  C56Y    2\n",
       "14  C58C    2\n",
       "15  C65K    1\n",
       "16  C85C    1\n",
       "17  C85Q    2\n",
       "18  D04V    2\n",
       "19  D12Y    1\n",
       "20  D16B    2\n",
       "21  D17H    0\n",
       "22  D35B    1\n",
       "23  D39G    0\n",
       "24  D44W    0\n",
       "25  D51V    1\n",
       "26  D59F    2\n",
       "27  D65L    2\n",
       "28  D82C    2\n",
       "29  D94Z    0\n",
       "30  E01L    2\n",
       "31  E04A    3\n",
       "32  E23G    2\n",
       "33  E39Z    2\n",
       "34  E45Q    1\n",
       "35  E47O    0\n",
       "36  E63M    0\n",
       "37  E66F    2\n",
       "38  E82Z    0\n",
       "39  E86N    1\n",
       "40  F03Z    2\n",
       "41  F10I    0\n",
       "42  F32Q    0\n",
       "43  F36V    2"
      ]
     },
     "execution_count": 12,
     "metadata": {},
     "output_type": "execute_result"
    }
   ],
   "source": [
    "# Exemplo de uso\n",
    "VIDEO_PATH = \"data/Package02\"\n",
    "EXCEL_PATH = \"data/OSATS.xlsx\"\n",
    "criar_excel_limpo(VIDEO_PATH, EXCEL_PATH)\n",
    "clean_excel_file = pd.read_excel(\"OSATS_clean.xlsx\")\n",
    "clean_excel_file"
   ]
  },
  {
   "cell_type": "code",
   "execution_count": null,
   "id": "4e1f48b0",
   "metadata": {},
   "outputs": [],
   "source": []
  }
 ],
 "metadata": {
  "kernelspec": {
   "display_name": "deepL2",
   "language": "python",
   "name": "python3"
  },
  "language_info": {
   "codemirror_mode": {
    "name": "ipython",
    "version": 3
   },
   "file_extension": ".py",
   "mimetype": "text/x-python",
   "name": "python",
   "nbconvert_exporter": "python",
   "pygments_lexer": "ipython3",
   "version": "3.12.9"
  }
 },
 "nbformat": 4,
 "nbformat_minor": 5
}

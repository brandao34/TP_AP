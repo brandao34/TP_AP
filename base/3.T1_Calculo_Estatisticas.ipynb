{
 "cells": [
  {
   "cell_type": "markdown",
   "id": "900a36ec",
   "metadata": {},
   "source": [
    "# Cálculo de Estatísticas de Imagens\n",
    "Este notebook calcula a média e o desvio padrão das imagens extraídas dos vídeos."
   ]
  },
  {
   "cell_type": "code",
   "execution_count": 1,
   "id": "9d4a420b",
   "metadata": {},
   "outputs": [],
   "source": [
    "import os\n",
    "import numpy as np\n",
    "from PIL import Image\n",
    "from torchvision.transforms import ToTensor\n",
    "from torch.utils.data import DataLoader, Dataset\n",
    "\n",
    "class ImageDataset(Dataset):\n",
    "    def __init__(self, root_dir, transform=None):\n",
    "        self.root_dir = root_dir\n",
    "        self.transform = transform\n",
    "        self.image_paths = []\n",
    "        for subdir, _, files in os.walk(root_dir):\n",
    "            for file in files:\n",
    "                if file.endswith(('.jpg', '.png', '.jpeg')):\n",
    "                    self.image_paths.append(os.path.join(subdir, file))\n",
    "\n",
    "    def __len__(self):\n",
    "        return len(self.image_paths)\n",
    "\n",
    "    def __getitem__(self, idx):\n",
    "        img_path = self.image_paths[idx]\n",
    "        image = Image.open(img_path).convert('RGB')\n",
    "        if self.transform:\n",
    "            image = self.transform(image)\n",
    "        return image\n",
    "\n",
    "def calculate_mean_std(root_dir):\n",
    "    transform = ToTensor()\n",
    "    dataset = ImageDataset(root_dir, transform=transform)\n",
    "    loader = DataLoader(dataset, batch_size=64, shuffle=False)\n",
    "    mean = 0.0\n",
    "    std = 0.0\n",
    "    n_samples = 0\n",
    "    for images in loader:\n",
    "        batch_samples = images.size(0)\n",
    "        images = images.view(batch_samples, images.size(1), -1)\n",
    "        mean += images.mean(2).sum(0)\n",
    "        std += images.std(2).sum(0)\n",
    "        n_samples += batch_samples\n",
    "    mean /= n_samples\n",
    "    std /= n_samples\n",
    "    print(f\"Mean: {mean}\")\n",
    "    print(f\"Std: {std}\")"
   ]
  },
  {
   "cell_type": "code",
   "execution_count": 2,
   "id": "e1d99484",
   "metadata": {},
   "outputs": [
    {
     "name": "stdout",
     "output_type": "stream",
     "text": [
      "Mean: tensor([0.4434, 0.4797, 0.5037])\n",
      "Std: tensor([0.1893, 0.1636, 0.1239])\n"
     ]
    }
   ],
   "source": [
    "# Exemplo de uso\n",
    "ROOT_DIR = \"frames\"\n",
    "calculate_mean_std(ROOT_DIR)"
   ]
  },
  {
   "cell_type": "markdown",
   "id": "1fde54a0",
   "metadata": {},
   "source": [
    "Resultados (Apos adicionar packtage 02 )\n",
    "\n",
    "Mean: tensor([0.4434, 0.4797, 0.5037])\n",
    "\n",
    "Std: tensor([0.1893, 0.1636, 0.1239])"
   ]
  },
  {
   "cell_type": "code",
   "execution_count": null,
   "id": "10fc5d1d",
   "metadata": {},
   "outputs": [],
   "source": []
  },
  {
   "cell_type": "code",
   "execution_count": null,
   "id": "e14c5510",
   "metadata": {},
   "outputs": [],
   "source": []
  }
 ],
 "metadata": {
  "kernelspec": {
   "display_name": "deepL2",
   "language": "python",
   "name": "python3"
  },
  "language_info": {
   "codemirror_mode": {
    "name": "ipython",
    "version": 3
   },
   "file_extension": ".py",
   "mimetype": "text/x-python",
   "name": "python",
   "nbconvert_exporter": "python",
   "pygments_lexer": "ipython3",
   "version": "3.11.11"
  }
 },
 "nbformat": 4,
 "nbformat_minor": 5
}

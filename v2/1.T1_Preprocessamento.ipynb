{
 "cells": [
  {
   "cell_type": "markdown",
   "id": "cba8186c",
   "metadata": {},
   "source": [
    "# Pré-processamento de Dados\n",
    "Este notebook realiza o pré-processamento dos dados, incluindo a leitura do arquivo Excel e a criação de um dicionário de classes."
   ]
  },
  {
   "cell_type": "code",
   "execution_count": 5,
   "id": "31e8da43",
   "metadata": {},
   "outputs": [],
   "source": [
    "import os\n",
    "import pandas as pd\n",
    "\n",
    "def class_grs(grs):\n",
    "    if 8 <= grs <= 15:\n",
    "        return 0  # novice\n",
    "    elif 16 <= grs <= 23:\n",
    "        return 1  # intermediate\n",
    "    elif 24 <= grs <= 31:\n",
    "        return 2  # proeficient\n",
    "    elif 32 <= grs <= 40:\n",
    "        return 3  # specialist\n",
    "    else:\n",
    "        return -1  # GRS not in range\n",
    "\n",
    "def get_classes():\n",
    "    with open(\"data/classes.txt\") as fich_labels:\n",
    "        labels = fich_labels.read().split()\n",
    "        classes = dict(zip(labels, list(range(len(labels)))))\n",
    "    return classes\n",
    "\n",
    "def criar_excel_limpo(videos_path, excel_path, output_excel=\"OSATS_clean.xlsx\"):\n",
    "    \"\"\"\n",
    "    Adiciona novos dados ao arquivo Excel 'OSATS_clean.xlsx' sem sobrescrever o conteúdo existente.\n",
    "    Cada vídeo aparece apenas uma vez, com a média das classificações calculada e a classe correspondente gerada.\n",
    "    \n",
    "    Args:\n",
    "        videos_path (str): Caminho para a pasta contendo os vídeos.\n",
    "        excel_path (str): Caminho para o arquivo OSATS.xlsx.\n",
    "        output_excel (str): Nome do arquivo Excel de saída.\n",
    "    \"\"\"\n",
    "    # Verificar se os caminhos existem\n",
    "    if not os.path.exists(videos_path):\n",
    "        raise FileNotFoundError(f\"Pasta de vídeos não encontrada: {videos_path}\")\n",
    "    if not os.path.exists(excel_path):\n",
    "        raise FileNotFoundError(f\"Arquivo Excel não encontrado: {excel_path}\")\n",
    "    \n",
    "    # Carregar o arquivo Excel original\n",
    "    df = pd.read_excel(excel_path)\n",
    "    \n",
    "    # Listar todos os arquivos de vídeo na pasta\n",
    "    video_extensions = ('.mp4',)\n",
    "    videos = [os.path.splitext(f)[0] for f in os.listdir(videos_path) if f.lower().endswith(video_extensions)]\n",
    "    \n",
    "    # Filtrar o DataFrame para conter apenas os vídeos presentes na pasta\n",
    "    df_filtered = df[df['VIDEO'].isin(videos)]\n",
    "    \n",
    "    # Calcular a média do GLOBA_RATING_SCORE para cada vídeo\n",
    "    df_mean = df_filtered.groupby('VIDEO')['GLOBA_RATING_SCORE'].mean().reset_index()\n",
    "    \n",
    "    # Adicionar a coluna 'GRS' com a classificação baseada na média\n",
    "    df_mean['GRS'] = df_mean['GLOBA_RATING_SCORE'].apply(class_grs)\n",
    "\n",
    "    df_mean = df_mean[df_mean['GRS'] != -1]\n",
    "    \n",
    "    # Selecionar apenas as colunas 'VIDEO' e 'GRS'\n",
    "    df_clean = df_mean[['VIDEO', 'GRS']]\n",
    "    \n",
    "    # Verificar se o arquivo de saída já existe\n",
    "    if os.path.exists(output_excel):\n",
    "        # Carregar o conteúdo existente\n",
    "        existing_df = pd.read_excel(output_excel)\n",
    "        \n",
    "        # Concatenar os novos dados com os existentes, evitando duplicatas\n",
    "        combined_df = pd.concat([existing_df, df_clean]).drop_duplicates(subset=['VIDEO']).reset_index(drop=True)\n",
    "    else:\n",
    "        # Caso o arquivo não exista, usar apenas os novos dados\n",
    "        combined_df = df_clean\n",
    "    \n",
    "    # Salvar o arquivo atualizado\n",
    "    combined_df.to_excel(output_excel, index=False)\n",
    "    print(f\"Arquivo '{output_excel}' atualizado com sucesso!\")"
   ]
  },
  {
   "cell_type": "code",
   "execution_count": 6,
   "id": "ad989dd7",
   "metadata": {},
   "outputs": [
    {
     "name": "stdout",
     "output_type": "stream",
     "text": [
      "Arquivo 'OSATS_clean.xlsx' atualizado com sucesso!\n"
     ]
    },
    {
     "data": {
      "application/vnd.microsoft.datawrangler.viewer.v0+json": {
       "columns": [
        {
         "name": "index",
         "rawType": "int64",
         "type": "integer"
        },
        {
         "name": "VIDEO",
         "rawType": "object",
         "type": "string"
        },
        {
         "name": "GRS",
         "rawType": "int64",
         "type": "integer"
        }
       ],
       "ref": "cf7fb558-5666-4296-90ff-42581d665d5e",
       "rows": [
        [
         "0",
         "A31H",
         "0"
        ],
        [
         "1",
         "A41X",
         "3"
        ],
        [
         "2",
         "A59Z",
         "0"
        ],
        [
         "3",
         "A66S",
         "2"
        ],
        [
         "4",
         "A83X",
         "2"
        ],
        [
         "5",
         "B53D",
         "0"
        ],
        [
         "6",
         "B68G",
         "3"
        ],
        [
         "7",
         "C16G",
         "1"
        ],
        [
         "8",
         "C18X",
         "0"
        ],
        [
         "9",
         "C33I",
         "1"
        ],
        [
         "10",
         "C36X",
         "0"
        ],
        [
         "11",
         "C42I",
         "0"
        ],
        [
         "12",
         "C43T",
         "0"
        ],
        [
         "13",
         "C46R",
         "2"
        ],
        [
         "14",
         "C58C",
         "2"
        ],
        [
         "15",
         "C85Q",
         "2"
        ],
        [
         "16",
         "D12Y",
         "1"
        ],
        [
         "17",
         "D16B",
         "2"
        ],
        [
         "18",
         "D17H",
         "0"
        ],
        [
         "19",
         "D44W",
         "0"
        ],
        [
         "20",
         "D65L",
         "2"
        ],
        [
         "21",
         "E04A",
         "3"
        ],
        [
         "22",
         "E39Z",
         "2"
        ],
        [
         "23",
         "E45Q",
         "1"
        ],
        [
         "24",
         "E47O",
         "0"
        ],
        [
         "25",
         "E66F",
         "2"
        ],
        [
         "26",
         "E82Z",
         "0"
        ],
        [
         "27",
         "F03Z",
         "2"
        ],
        [
         "28",
         "F10I",
         "0"
        ],
        [
         "29",
         "F66N",
         "2"
        ],
        [
         "30",
         "F75X",
         "3"
        ],
        [
         "31",
         "F77P",
         "1"
        ],
        [
         "32",
         "F95D",
         "1"
        ],
        [
         "33",
         "G21U",
         "1"
        ],
        [
         "34",
         "G22R",
         "1"
        ],
        [
         "35",
         "G61C",
         "2"
        ],
        [
         "36",
         "G61O",
         "2"
        ],
        [
         "37",
         "G66T",
         "1"
        ],
        [
         "38",
         "G86B",
         "3"
        ],
        [
         "39",
         "G92L",
         "0"
        ],
        [
         "40",
         "G93D",
         "3"
        ],
        [
         "41",
         "G94Z",
         "0"
        ],
        [
         "42",
         "H11P",
         "3"
        ],
        [
         "43",
         "H13A",
         "2"
        ],
        [
         "44",
         "H22T",
         "1"
        ],
        [
         "45",
         "H27O",
         "0"
        ],
        [
         "46",
         "H33Z",
         "0"
        ],
        [
         "47",
         "H50P",
         "0"
        ],
        [
         "48",
         "H87Y",
         "3"
        ],
        [
         "49",
         "I01F",
         "2"
        ]
       ],
       "shape": {
        "columns": 2,
        "rows": 189
       }
      },
      "text/html": [
       "<div>\n",
       "<style scoped>\n",
       "    .dataframe tbody tr th:only-of-type {\n",
       "        vertical-align: middle;\n",
       "    }\n",
       "\n",
       "    .dataframe tbody tr th {\n",
       "        vertical-align: top;\n",
       "    }\n",
       "\n",
       "    .dataframe thead th {\n",
       "        text-align: right;\n",
       "    }\n",
       "</style>\n",
       "<table border=\"1\" class=\"dataframe\">\n",
       "  <thead>\n",
       "    <tr style=\"text-align: right;\">\n",
       "      <th></th>\n",
       "      <th>VIDEO</th>\n",
       "      <th>GRS</th>\n",
       "    </tr>\n",
       "  </thead>\n",
       "  <tbody>\n",
       "    <tr>\n",
       "      <th>0</th>\n",
       "      <td>A31H</td>\n",
       "      <td>0</td>\n",
       "    </tr>\n",
       "    <tr>\n",
       "      <th>1</th>\n",
       "      <td>A41X</td>\n",
       "      <td>3</td>\n",
       "    </tr>\n",
       "    <tr>\n",
       "      <th>2</th>\n",
       "      <td>A59Z</td>\n",
       "      <td>0</td>\n",
       "    </tr>\n",
       "    <tr>\n",
       "      <th>3</th>\n",
       "      <td>A66S</td>\n",
       "      <td>2</td>\n",
       "    </tr>\n",
       "    <tr>\n",
       "      <th>4</th>\n",
       "      <td>A83X</td>\n",
       "      <td>2</td>\n",
       "    </tr>\n",
       "    <tr>\n",
       "      <th>...</th>\n",
       "      <td>...</td>\n",
       "      <td>...</td>\n",
       "    </tr>\n",
       "    <tr>\n",
       "      <th>184</th>\n",
       "      <td>Z49G</td>\n",
       "      <td>2</td>\n",
       "    </tr>\n",
       "    <tr>\n",
       "      <th>185</th>\n",
       "      <td>Z49X</td>\n",
       "      <td>1</td>\n",
       "    </tr>\n",
       "    <tr>\n",
       "      <th>186</th>\n",
       "      <td>Z62S</td>\n",
       "      <td>0</td>\n",
       "    </tr>\n",
       "    <tr>\n",
       "      <th>187</th>\n",
       "      <td>Z93E</td>\n",
       "      <td>2</td>\n",
       "    </tr>\n",
       "    <tr>\n",
       "      <th>188</th>\n",
       "      <td>Z99N</td>\n",
       "      <td>2</td>\n",
       "    </tr>\n",
       "  </tbody>\n",
       "</table>\n",
       "<p>189 rows × 2 columns</p>\n",
       "</div>"
      ],
      "text/plain": [
       "    VIDEO  GRS\n",
       "0    A31H    0\n",
       "1    A41X    3\n",
       "2    A59Z    0\n",
       "3    A66S    2\n",
       "4    A83X    2\n",
       "..    ...  ...\n",
       "184  Z49G    2\n",
       "185  Z49X    1\n",
       "186  Z62S    0\n",
       "187  Z93E    2\n",
       "188  Z99N    2\n",
       "\n",
       "[189 rows x 2 columns]"
      ]
     },
     "execution_count": 6,
     "metadata": {},
     "output_type": "execute_result"
    }
   ],
   "source": [
    "# Exemplo de uso\n",
    "VIDEO_PATH = \"data/cropped_videos\"\n",
    "EXCEL_PATH = \"data/OSATS.xlsx\"\n",
    "criar_excel_limpo(VIDEO_PATH, EXCEL_PATH)\n",
    "clean_excel_file = pd.read_excel(\"OSATS_clean.xlsx\")\n",
    "clean_excel_file"
   ]
  },
  {
   "cell_type": "code",
   "execution_count": null,
   "id": "4e1f48b0",
   "metadata": {},
   "outputs": [],
   "source": []
  }
 ],
 "metadata": {
  "kernelspec": {
   "display_name": "deepL2",
   "language": "python",
   "name": "python3"
  },
  "language_info": {
   "codemirror_mode": {
    "name": "ipython",
    "version": 3
   },
   "file_extension": ".py",
   "mimetype": "text/x-python",
   "name": "python",
   "nbconvert_exporter": "python",
   "pygments_lexer": "ipython3",
   "version": "3.11.11"
  }
 },
 "nbformat": 4,
 "nbformat_minor": 5
}
